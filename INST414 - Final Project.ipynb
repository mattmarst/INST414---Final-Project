{
 "cells": [
  {
   "cell_type": "code",
   "execution_count": null,
   "id": "298130c7",
   "metadata": {},
   "outputs": [],
   "source": [
    "# Initial data imports\n",
    "import pandas as pd\n",
    "import numpy as np\n",
    "import matplotlib as mpl\n",
    "import matplotlib.pyplot as plt"
   ]
  },
  {
   "cell_type": "code",
   "execution_count": null,
   "id": "fb505387",
   "metadata": {},
   "outputs": [],
   "source": [
    "# Metar provider locations\n",
    "df2 = pd.read_json('INST414 Semester Project\\METAR Provider Locations.json')\n",
    "\n",
    "location = df2.filter(['latitude','longitude'])\n",
    "plt.scatter(x=location['longitude'], y=location['latitude'])\n",
    "plt.xlim(-126,-68)\n",
    "plt.ylim(22,50)\n",
    "plt.show()"
   ]
  },
  {
   "cell_type": "code",
   "execution_count": null,
   "id": "4c3b7f15",
   "metadata": {},
   "outputs": [],
   "source": [
    "# Accidents \n",
    "df3 = pd.read_json('INST414 Semester Project\\Accidents.json')\n",
    "\n",
    "engineType = str(df3['EngineType'].value_counts())\n",
    "print(\"Engine Type\\n\" + engineType)\n",
    "\n",
    "model = df3['Model'].value_counts()\n",
    "print(\"\\nPlane Model\" + str(model))\n",
    "#print(\"\\nPlane Model\\n\" + model.to_string())\n",
    "\n",
    "locationOfAccident = str(df3['Location'].value_counts())\n",
    "print(\"\\nLocation of Accident\" + locationOfAccident)\n",
    "\n",
    "operator = str(df3['Operator'].value_counts())\n",
    "print(\"\\nOperator of Accident\" + operator)\n",
    "\n",
    "injuryLevel = str(df3['InjuryLevel'].value_counts())\n",
    "print(\"\\nInjury Level\\n\" + injuryLevel)\n",
    "\n",
    "fatalities = str(df3['Fatalities'].value_counts())\n",
    "print(\"\\nFatality Count\\n\" + fatalities)\n",
    "\n",
    "flightPhase = str(df3['FlightPhase'].value_counts())\n",
    "print(\"\\nFlight Phase\\n\" + flightPhase)"
   ]
  },
  {
   "cell_type": "code",
   "execution_count": null,
   "id": "b65d287b",
   "metadata": {},
   "outputs": [],
   "source": [
    "# Operator Risk Profile\n",
    "df5 = pd.read_json('INST414 Semester Project\\Operator Risk Profile.json')\n",
    "\n",
    "fleet_age = str(df5['av_fleet_age'].value_counts())\n",
    "print(\"Average Fleet Age Count\\n\" + fleet_age)\n",
    "\n",
    "aircraft_count = str(df5['aircraft'].value_counts())\n",
    "print(\"Aircraft Count\\n\" + aircraft_count)"
   ]
  },
  {
   "cell_type": "code",
   "execution_count": null,
   "id": "ea595924",
   "metadata": {},
   "outputs": [],
   "source": [
    "# Traffic Statistics\n",
    "df4 = pd.read_json('INST414 Semester Project\\State Traffic Statistics.json')\n",
    "\n",
    "print(df4)"
   ]
  },
  {
   "cell_type": "code",
   "execution_count": null,
   "id": "1b872180",
   "metadata": {},
   "outputs": [],
   "source": [
    "# import decision tree modules\n",
    "from sklearn.tree import DecisionTreeClassifier # Import Decision Tree Classifier\n",
    "from sklearn.model_selection import train_test_split # Import train_test_split function\n",
    "from sklearn import metrics #Import scikit-learn metrics module for accuracy calculation"
   ]
  },
  {
   "cell_type": "code",
   "execution_count": null,
   "id": "bf357f0c",
   "metadata": {},
   "outputs": [],
   "source": [
    "# loading cleaned operator risk profile data in csv\n",
    "# cleaned data only has columns mentioned in col_names variable\n",
    "# added is_risk \n",
    "col_names = ['aircraft', 'av_fleet_age', 'accidents_5y', 'aircraft_over_25y', 'is_risk']\n",
    "\n",
    "df_clean = pd.read_csv('INST414 Semester Project\\Operator Risk Profile as csv.csv', header=None, names=col_names)\n",
    "df_clean.head()"
   ]
  },
  {
   "cell_type": "code",
   "execution_count": null,
   "id": "62c3bb24",
   "metadata": {},
   "outputs": [],
   "source": [
    "# set features and target\n",
    "feature_cols = ['aircraft', 'av_fleet_age', 'accidents_5y', 'aircraft_over_25y']\n",
    "X = df_clean[feature_cols] # Features\n",
    "y = df_clean.is_risk # Target variable"
   ]
  },
  {
   "cell_type": "code",
   "execution_count": null,
   "id": "d0af879d",
   "metadata": {},
   "outputs": [],
   "source": [
    "# training and test set\n",
    "X_train, X_test, y_train, y_test = train_test_split(X, y, test_size=0.3, random_state=1) # 70% training and 30% test\n",
    "\n",
    "# create decision tree object\n",
    "clf = DecisionTreeClassifier(criterion=\"entropy\", max_depth=3)\n",
    "\n",
    "# Train\n",
    "clf = clf.fit(X_train,y_train)"
   ]
  },
  {
   "cell_type": "code",
   "execution_count": null,
   "id": "1f2c94ff",
   "metadata": {},
   "outputs": [],
   "source": [
    "#from sklearn.externals.six import StringIO \n",
    "from six import StringIO\n",
    "from IPython.display import Image  \n",
    "from sklearn.tree import export_graphviz\n",
    "import pydotplus\n",
    "\n",
    "# build decision tree\n",
    "dot_data = StringIO()\n",
    "export_graphviz(clf, out_file=dot_data,  \n",
    "                filled=True, rounded=True,\n",
    "                special_characters=True, feature_names = feature_cols,class_names=['non-risk','risk'])\n",
    "graph = pydotplus.graph_from_dot_data(dot_data.getvalue())  \n",
    "graph.write_png('INST414 Semester Project\\final_tree.png')"
   ]
  }
 ],
 "metadata": {
  "kernelspec": {
   "display_name": "Python 3 (ipykernel)",
   "language": "python",
   "name": "python3"
  },
  "language_info": {
   "codemirror_mode": {
    "name": "ipython",
    "version": 3
   },
   "file_extension": ".py",
   "mimetype": "text/x-python",
   "name": "python",
   "nbconvert_exporter": "python",
   "pygments_lexer": "ipython3",
   "version": "3.9.7"
  }
 },
 "nbformat": 4,
 "nbformat_minor": 5
}
